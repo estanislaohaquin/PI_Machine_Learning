{
 "cells": [
  {
   "cell_type": "code",
   "execution_count": 1,
   "metadata": {},
   "outputs": [],
   "source": [
    "#IMPORTAMOS LAS LIBRERIAS A UTILIZAR\n",
    "\n",
    "import pandas as pd\n",
    "import matplotlib.pyplot as plt\n",
    "import seaborn as sns\n",
    "import numpy as np"
   ]
  },
  {
   "cell_type": "code",
   "execution_count": 62,
   "metadata": {},
   "outputs": [],
   "source": [
    "#IMPORTAMOS LOS ARCHIVOS A UTILIZAR\n",
    "\n",
    "df = pd.read_csv(r'properties_colombia/properties_colombia_train.csv', parse_dates=(['start_date', 'created_on']))\n",
    "dft = pd.read_csv(r'properties_colombia/properties_colombia_test.csv')"
   ]
  },
  {
   "cell_type": "code",
   "execution_count": 63,
   "metadata": {},
   "outputs": [
    {
     "data": {
      "text/html": [
       "<div>\n",
       "<style scoped>\n",
       "    .dataframe tbody tr th:only-of-type {\n",
       "        vertical-align: middle;\n",
       "    }\n",
       "\n",
       "    .dataframe tbody tr th {\n",
       "        vertical-align: top;\n",
       "    }\n",
       "\n",
       "    .dataframe thead th {\n",
       "        text-align: right;\n",
       "    }\n",
       "</style>\n",
       "<table border=\"1\" class=\"dataframe\">\n",
       "  <thead>\n",
       "    <tr style=\"text-align: right;\">\n",
       "      <th></th>\n",
       "      <th>Unnamed: 0</th>\n",
       "      <th>id</th>\n",
       "      <th>ad_type</th>\n",
       "      <th>start_date</th>\n",
       "      <th>end_date</th>\n",
       "      <th>created_on</th>\n",
       "      <th>lat</th>\n",
       "      <th>lon</th>\n",
       "      <th>l1</th>\n",
       "      <th>l2</th>\n",
       "      <th>...</th>\n",
       "      <th>bathrooms</th>\n",
       "      <th>surface_total</th>\n",
       "      <th>surface_covered</th>\n",
       "      <th>currency</th>\n",
       "      <th>price_period</th>\n",
       "      <th>title</th>\n",
       "      <th>description</th>\n",
       "      <th>property_type</th>\n",
       "      <th>operation_type</th>\n",
       "      <th>geometry</th>\n",
       "    </tr>\n",
       "  </thead>\n",
       "  <tbody>\n",
       "    <tr>\n",
       "      <th>0</th>\n",
       "      <td>852569</td>\n",
       "      <td>pCiVu6rxpBq9dCZfYCXXgA==</td>\n",
       "      <td>Propiedad</td>\n",
       "      <td>2020-09-04</td>\n",
       "      <td>2020-09-12</td>\n",
       "      <td>2020-09-04</td>\n",
       "      <td>4.722000</td>\n",
       "      <td>-74.075000</td>\n",
       "      <td>Colombia</td>\n",
       "      <td>Cundinamarca</td>\n",
       "      <td>...</td>\n",
       "      <td>3.0</td>\n",
       "      <td>660.0</td>\n",
       "      <td>350.0</td>\n",
       "      <td>COP</td>\n",
       "      <td>NaN</td>\n",
       "      <td>Casa En Arriendo/venta En Bogota Sotileza Cod....</td>\n",
       "      <td>EXCLUSIVA CASA EN VENTA Y ARRIENDO, UBICADA EN...</td>\n",
       "      <td>Casa</td>\n",
       "      <td>Venta</td>\n",
       "      <td>POINT (-74.075 4.722)</td>\n",
       "    </tr>\n",
       "    <tr>\n",
       "      <th>1</th>\n",
       "      <td>121379</td>\n",
       "      <td>L0XSQ7mF1TWb1lHRg4n2+A==</td>\n",
       "      <td>Propiedad</td>\n",
       "      <td>2020-10-20</td>\n",
       "      <td>2020-10-20</td>\n",
       "      <td>2020-10-20</td>\n",
       "      <td>NaN</td>\n",
       "      <td>NaN</td>\n",
       "      <td>Colombia</td>\n",
       "      <td>Antioquia</td>\n",
       "      <td>...</td>\n",
       "      <td>3.0</td>\n",
       "      <td>NaN</td>\n",
       "      <td>NaN</td>\n",
       "      <td>COP</td>\n",
       "      <td>Mensual</td>\n",
       "      <td>SE VENDE APARTAMENTO EN EL SECTOR DE ZUÑIGA-EN...</td>\n",
       "      <td>PR 7555. Apartamento Duplex en unidad cerrada,...</td>\n",
       "      <td>Apartamento</td>\n",
       "      <td>Venta</td>\n",
       "      <td>POINT EMPTY</td>\n",
       "    </tr>\n",
       "    <tr>\n",
       "      <th>2</th>\n",
       "      <td>119504</td>\n",
       "      <td>FbWRxZOMNoUzVOLXgkum1A==</td>\n",
       "      <td>Propiedad</td>\n",
       "      <td>2020-10-20</td>\n",
       "      <td>2020-10-22</td>\n",
       "      <td>2020-10-20</td>\n",
       "      <td>6.259253</td>\n",
       "      <td>-75.628381</td>\n",
       "      <td>Colombia</td>\n",
       "      <td>Antioquia</td>\n",
       "      <td>...</td>\n",
       "      <td>1.0</td>\n",
       "      <td>NaN</td>\n",
       "      <td>NaN</td>\n",
       "      <td>COP</td>\n",
       "      <td>NaN</td>\n",
       "      <td>Casa Barata San Javier Solo por este mes</td>\n",
       "      <td>Casa compraventa escrituras en \\n proceso,sala...</td>\n",
       "      <td>Casa</td>\n",
       "      <td>Venta</td>\n",
       "      <td>POINT (-75.6283806 6.25925267)</td>\n",
       "    </tr>\n",
       "    <tr>\n",
       "      <th>3</th>\n",
       "      <td>227304</td>\n",
       "      <td>RUV1P+3UOmNdlJ9fBdWFyw==</td>\n",
       "      <td>Propiedad</td>\n",
       "      <td>2020-12-10</td>\n",
       "      <td>9999-12-31</td>\n",
       "      <td>2020-12-10</td>\n",
       "      <td>6.203000</td>\n",
       "      <td>-75.556000</td>\n",
       "      <td>Colombia</td>\n",
       "      <td>Antioquia</td>\n",
       "      <td>...</td>\n",
       "      <td>NaN</td>\n",
       "      <td>2793.0</td>\n",
       "      <td>NaN</td>\n",
       "      <td>COP</td>\n",
       "      <td>NaN</td>\n",
       "      <td>Lote En Venta En Medellin La Calera Cod. VRPR6330</td>\n",
       "      <td>CODIGO 6330LOTE PARA LA VENTA DE 2793MTS</td>\n",
       "      <td>Lote</td>\n",
       "      <td>Venta</td>\n",
       "      <td>POINT (-75.556 6.203)</td>\n",
       "    </tr>\n",
       "    <tr>\n",
       "      <th>4</th>\n",
       "      <td>228600</td>\n",
       "      <td>ifKutEAhyovuDNeYrFFV+A==</td>\n",
       "      <td>Propiedad</td>\n",
       "      <td>2020-12-10</td>\n",
       "      <td>2020-12-11</td>\n",
       "      <td>2020-12-10</td>\n",
       "      <td>NaN</td>\n",
       "      <td>NaN</td>\n",
       "      <td>Colombia</td>\n",
       "      <td>Antioquia</td>\n",
       "      <td>...</td>\n",
       "      <td>2.0</td>\n",
       "      <td>NaN</td>\n",
       "      <td>NaN</td>\n",
       "      <td>COP</td>\n",
       "      <td>NaN</td>\n",
       "      <td>Casa en Venta Ubicado en MEDELLIN</td>\n",
       "      <td>Codigo Inmueble 505457 Casa en venta en el sec...</td>\n",
       "      <td>Casa</td>\n",
       "      <td>Venta</td>\n",
       "      <td>POINT EMPTY</td>\n",
       "    </tr>\n",
       "  </tbody>\n",
       "</table>\n",
       "<p>5 rows × 26 columns</p>\n",
       "</div>"
      ],
      "text/plain": [
       "   Unnamed: 0                        id    ad_type  start_date    end_date  \\\n",
       "0      852569  pCiVu6rxpBq9dCZfYCXXgA==  Propiedad  2020-09-04  2020-09-12   \n",
       "1      121379  L0XSQ7mF1TWb1lHRg4n2+A==  Propiedad  2020-10-20  2020-10-20   \n",
       "2      119504  FbWRxZOMNoUzVOLXgkum1A==  Propiedad  2020-10-20  2020-10-22   \n",
       "3      227304  RUV1P+3UOmNdlJ9fBdWFyw==  Propiedad  2020-12-10  9999-12-31   \n",
       "4      228600  ifKutEAhyovuDNeYrFFV+A==  Propiedad  2020-12-10  2020-12-11   \n",
       "\n",
       "   created_on       lat        lon        l1            l2  ... bathrooms  \\\n",
       "0  2020-09-04  4.722000 -74.075000  Colombia  Cundinamarca  ...       3.0   \n",
       "1  2020-10-20       NaN        NaN  Colombia     Antioquia  ...       3.0   \n",
       "2  2020-10-20  6.259253 -75.628381  Colombia     Antioquia  ...       1.0   \n",
       "3  2020-12-10  6.203000 -75.556000  Colombia     Antioquia  ...       NaN   \n",
       "4  2020-12-10       NaN        NaN  Colombia     Antioquia  ...       2.0   \n",
       "\n",
       "  surface_total surface_covered currency  price_period  \\\n",
       "0         660.0           350.0      COP           NaN   \n",
       "1           NaN             NaN      COP       Mensual   \n",
       "2           NaN             NaN      COP           NaN   \n",
       "3        2793.0             NaN      COP           NaN   \n",
       "4           NaN             NaN      COP           NaN   \n",
       "\n",
       "                                               title  \\\n",
       "0  Casa En Arriendo/venta En Bogota Sotileza Cod....   \n",
       "1  SE VENDE APARTAMENTO EN EL SECTOR DE ZUÑIGA-EN...   \n",
       "2           Casa Barata San Javier Solo por este mes   \n",
       "3  Lote En Venta En Medellin La Calera Cod. VRPR6330   \n",
       "4                  Casa en Venta Ubicado en MEDELLIN   \n",
       "\n",
       "                                         description  property_type  \\\n",
       "0  EXCLUSIVA CASA EN VENTA Y ARRIENDO, UBICADA EN...           Casa   \n",
       "1  PR 7555. Apartamento Duplex en unidad cerrada,...    Apartamento   \n",
       "2  Casa compraventa escrituras en \\n proceso,sala...           Casa   \n",
       "3           CODIGO 6330LOTE PARA LA VENTA DE 2793MTS           Lote   \n",
       "4  Codigo Inmueble 505457 Casa en venta en el sec...           Casa   \n",
       "\n",
       "   operation_type                        geometry  \n",
       "0           Venta           POINT (-74.075 4.722)  \n",
       "1           Venta                     POINT EMPTY  \n",
       "2           Venta  POINT (-75.6283806 6.25925267)  \n",
       "3           Venta           POINT (-75.556 6.203)  \n",
       "4           Venta                     POINT EMPTY  \n",
       "\n",
       "[5 rows x 26 columns]"
      ]
     },
     "execution_count": 63,
     "metadata": {},
     "output_type": "execute_result"
    }
   ],
   "source": [
    "#HACEMOS EL ANALISIS EXPLORATORIO DE LOS DATOS\n",
    "df.head()\n",
    "dft.head()"
   ]
  },
  {
   "cell_type": "code",
   "execution_count": 64,
   "metadata": {},
   "outputs": [
    {
     "data": {
      "text/plain": [
       "(65850, 26)"
      ]
     },
     "execution_count": 64,
     "metadata": {},
     "output_type": "execute_result"
    }
   ],
   "source": [
    "df.shape\n",
    "dft.shape\n",
    "df.info()\n",
    "dft.info()\n",
    "pd.isnull(df).sum()\n",
    "pd.isnull(dft).sum()"
   ]
  },
  {
   "cell_type": "code",
   "execution_count": 65,
   "metadata": {},
   "outputs": [
    {
     "data": {
      "text/html": [
       "<div>\n",
       "<style scoped>\n",
       "    .dataframe tbody tr th:only-of-type {\n",
       "        vertical-align: middle;\n",
       "    }\n",
       "\n",
       "    .dataframe tbody tr th {\n",
       "        vertical-align: top;\n",
       "    }\n",
       "\n",
       "    .dataframe thead th {\n",
       "        text-align: right;\n",
       "    }\n",
       "</style>\n",
       "<table border=\"1\" class=\"dataframe\">\n",
       "  <thead>\n",
       "    <tr style=\"text-align: right;\">\n",
       "      <th></th>\n",
       "      <th>Unnamed: 0</th>\n",
       "      <th>lat</th>\n",
       "      <th>lon</th>\n",
       "      <th>rooms</th>\n",
       "      <th>bedrooms</th>\n",
       "      <th>bathrooms</th>\n",
       "      <th>surface_total</th>\n",
       "      <th>surface_covered</th>\n",
       "    </tr>\n",
       "  </thead>\n",
       "  <tbody>\n",
       "    <tr>\n",
       "      <th>count</th>\n",
       "      <td>65850.000000</td>\n",
       "      <td>49433.000000</td>\n",
       "      <td>49433.000000</td>\n",
       "      <td>9110.000000</td>\n",
       "      <td>13403.000000</td>\n",
       "      <td>52054.000000</td>\n",
       "      <td>2314.000000</td>\n",
       "      <td>3.305000e+03</td>\n",
       "    </tr>\n",
       "    <tr>\n",
       "      <th>mean</th>\n",
       "      <td>500260.289263</td>\n",
       "      <td>5.686868</td>\n",
       "      <td>-75.042164</td>\n",
       "      <td>3.282327</td>\n",
       "      <td>3.236813</td>\n",
       "      <td>2.639624</td>\n",
       "      <td>1355.283924</td>\n",
       "      <td>5.616338e+03</td>\n",
       "    </tr>\n",
       "    <tr>\n",
       "      <th>std</th>\n",
       "      <td>290438.140244</td>\n",
       "      <td>2.217177</td>\n",
       "      <td>1.098202</td>\n",
       "      <td>1.702092</td>\n",
       "      <td>1.972357</td>\n",
       "      <td>1.426015</td>\n",
       "      <td>9409.882547</td>\n",
       "      <td>3.012933e+05</td>\n",
       "    </tr>\n",
       "    <tr>\n",
       "      <th>min</th>\n",
       "      <td>4.000000</td>\n",
       "      <td>-4.203165</td>\n",
       "      <td>-81.705052</td>\n",
       "      <td>1.000000</td>\n",
       "      <td>0.000000</td>\n",
       "      <td>1.000000</td>\n",
       "      <td>10.000000</td>\n",
       "      <td>1.000000e+00</td>\n",
       "    </tr>\n",
       "    <tr>\n",
       "      <th>25%</th>\n",
       "      <td>235030.500000</td>\n",
       "      <td>4.582000</td>\n",
       "      <td>-75.644727</td>\n",
       "      <td>3.000000</td>\n",
       "      <td>3.000000</td>\n",
       "      <td>2.000000</td>\n",
       "      <td>74.000000</td>\n",
       "      <td>7.100000e+01</td>\n",
       "    </tr>\n",
       "    <tr>\n",
       "      <th>50%</th>\n",
       "      <td>509299.500000</td>\n",
       "      <td>4.918677</td>\n",
       "      <td>-75.476071</td>\n",
       "      <td>3.000000</td>\n",
       "      <td>3.000000</td>\n",
       "      <td>2.000000</td>\n",
       "      <td>120.000000</td>\n",
       "      <td>1.150000e+02</td>\n",
       "    </tr>\n",
       "    <tr>\n",
       "      <th>75%</th>\n",
       "      <td>772024.500000</td>\n",
       "      <td>6.251822</td>\n",
       "      <td>-74.094765</td>\n",
       "      <td>4.000000</td>\n",
       "      <td>4.000000</td>\n",
       "      <td>3.000000</td>\n",
       "      <td>274.500000</td>\n",
       "      <td>2.130000e+02</td>\n",
       "    </tr>\n",
       "    <tr>\n",
       "      <th>max</th>\n",
       "      <td>993559.000000</td>\n",
       "      <td>13.338761</td>\n",
       "      <td>-67.924336</td>\n",
       "      <td>40.000000</td>\n",
       "      <td>60.000000</td>\n",
       "      <td>20.000000</td>\n",
       "      <td>200000.000000</td>\n",
       "      <td>1.732000e+07</td>\n",
       "    </tr>\n",
       "  </tbody>\n",
       "</table>\n",
       "</div>"
      ],
      "text/plain": [
       "          Unnamed: 0           lat           lon        rooms      bedrooms  \\\n",
       "count   65850.000000  49433.000000  49433.000000  9110.000000  13403.000000   \n",
       "mean   500260.289263      5.686868    -75.042164     3.282327      3.236813   \n",
       "std    290438.140244      2.217177      1.098202     1.702092      1.972357   \n",
       "min         4.000000     -4.203165    -81.705052     1.000000      0.000000   \n",
       "25%    235030.500000      4.582000    -75.644727     3.000000      3.000000   \n",
       "50%    509299.500000      4.918677    -75.476071     3.000000      3.000000   \n",
       "75%    772024.500000      6.251822    -74.094765     4.000000      4.000000   \n",
       "max    993559.000000     13.338761    -67.924336    40.000000     60.000000   \n",
       "\n",
       "          bathrooms  surface_total  surface_covered  \n",
       "count  52054.000000    2314.000000     3.305000e+03  \n",
       "mean       2.639624    1355.283924     5.616338e+03  \n",
       "std        1.426015    9409.882547     3.012933e+05  \n",
       "min        1.000000      10.000000     1.000000e+00  \n",
       "25%        2.000000      74.000000     7.100000e+01  \n",
       "50%        2.000000     120.000000     1.150000e+02  \n",
       "75%        3.000000     274.500000     2.130000e+02  \n",
       "max       20.000000  200000.000000     1.732000e+07  "
      ]
     },
     "execution_count": 65,
     "metadata": {},
     "output_type": "execute_result"
    }
   ],
   "source": [
    "df.describe()\n",
    "dft.describe()"
   ]
  },
  {
   "cell_type": "code",
   "execution_count": 8,
   "metadata": {},
   "outputs": [
    {
     "data": {
      "text/plain": [
       "643605091.01"
      ]
     },
     "execution_count": 8,
     "metadata": {},
     "output_type": "execute_result"
    }
   ],
   "source": [
    "price_promedio = round(df.price.mean(), 2)\n",
    "price_promedio"
   ]
  },
  {
   "cell_type": "code",
   "execution_count": 9,
   "metadata": {},
   "outputs": [
    {
     "data": {
      "text/plain": [
       "Venta    197549\n",
       "Name: operation_type, dtype: int64"
      ]
     },
     "execution_count": 9,
     "metadata": {},
     "output_type": "execute_result"
    }
   ],
   "source": [
    "df.id.duplicated().sum()\n",
    "df.ad_type.value_counts()\n",
    "min(df.start_date.dt.year)\n",
    "max(df.start_date.dt.year)\n",
    "df.operation_type.value_counts()"
   ]
  },
  {
   "cell_type": "code",
   "execution_count": 66,
   "metadata": {},
   "outputs": [],
   "source": [
    "# PREPROCESAMIENTO DE LA DATA\n",
    "# ELIMINO LAS COLUMNAS QUE CONSIDERO NO SON NECESARIAS PARA EL ANALISIS\n",
    "df.drop(['Unnamed: 0', 'id', 'ad_type', 'start_date', 'end_date', 'created_on', 'l1', 'l2', 'l3', 'l4', 'l5', 'l6', 'currency', 'price_period', 'title', 'description', 'operation_type', 'geometry'], inplace=True, axis=1)\n",
    "dft.drop(['Unnamed: 0', 'id', 'ad_type', 'start_date', 'end_date', 'created_on', 'l1', 'l2', 'l3', 'l4', 'l5', 'l6', 'currency', 'price_period', 'title', 'description', 'operation_type', 'geometry'], inplace=True, axis=1)"
   ]
  },
  {
   "cell_type": "code",
   "execution_count": 68,
   "metadata": {},
   "outputs": [],
   "source": [
    "df.property_type.value_counts()\n",
    "df['property_type'].replace(['Apartamento', 'Casa', 'Otro', 'Lote', 'Local comercial', 'Finca', 'Oficina', 'Parqueadero'], [0,1,2,3,4,5,6,7], inplace=True)\n",
    "dft.property_type.value_counts()\n",
    "dft['property_type'].replace(['Apartamento', 'Casa', 'Otro', 'Lote', 'Local comercial', 'Finca', 'Oficina', 'Parqueadero'], [0,1,2,3,4,5,6,7], inplace=True)"
   ]
  },
  {
   "cell_type": "code",
   "execution_count": 70,
   "metadata": {},
   "outputs": [
    {
     "data": {
      "text/plain": [
       "lat                16417\n",
       "lon                16417\n",
       "rooms              56740\n",
       "bedrooms           52447\n",
       "bathrooms          13796\n",
       "surface_total      63536\n",
       "surface_covered    62545\n",
       "property_type          0\n",
       "dtype: int64"
      ]
     },
     "execution_count": 70,
     "metadata": {},
     "output_type": "execute_result"
    }
   ],
   "source": [
    "df.isnull().sum()\n",
    "dft.isnull().sum()\n"
   ]
  },
  {
   "cell_type": "code",
   "execution_count": 13,
   "metadata": {},
   "outputs": [],
   "source": [
    "#CALCULO LOS VALORES CON LOS CUALES VOY A REEMPLAZAR LOS NULOS EN AMBOS DATAFRAMES\n",
    "lat_promedio = round(df['lat'].mean(), 6)\n",
    "lon_promedio = round(df['lon'].mean(), 6)\n",
    "rooms_promedio = round(df['rooms'].mean())\n",
    "bedrooms_promedio = round(df['bedrooms'].mean())\n",
    "bathrooms_promedio = round(df['bathrooms'].mean())\n",
    "surface_total_promedio = round(df['surface_total'].mean(),2)\n",
    "surface_covered_promedio = round(df['surface_covered'].mean(),2)\n"
   ]
  },
  {
   "cell_type": "code",
   "execution_count": 14,
   "metadata": {},
   "outputs": [],
   "source": [
    "df['lat'].fillna(lat_promedio, inplace=True)\n",
    "df['lon'].fillna(lon_promedio, inplace=True)\n",
    "df['rooms'].fillna(rooms_promedio, inplace=True)\n",
    "df['bedrooms'].fillna(bedrooms_promedio, inplace=True)\n",
    "df['bathrooms'].fillna(bathrooms_promedio, inplace=True)\n",
    "df['surface_total'].fillna(surface_total_promedio, inplace=True)\n",
    "df['surface_covered'].fillna(surface_covered_promedio, inplace=True)\n",
    "df['price'].fillna(price_promedio, inplace=True)"
   ]
  },
  {
   "cell_type": "code",
   "execution_count": 72,
   "metadata": {},
   "outputs": [],
   "source": [
    "dft['lat'].fillna(lat_promedio, inplace=True)\n",
    "dft['lon'].fillna(lon_promedio, inplace=True)\n",
    "dft['rooms'].fillna(rooms_promedio, inplace=True)\n",
    "dft['bedrooms'].fillna(bedrooms_promedio, inplace=True)\n",
    "dft['bathrooms'].fillna(bathrooms_promedio, inplace=True)\n",
    "dft['surface_total'].fillna(surface_total_promedio, inplace=True)\n",
    "dft['surface_covered'].fillna(surface_covered_promedio, inplace=True)\n"
   ]
  },
  {
   "cell_type": "code",
   "execution_count": 74,
   "metadata": {},
   "outputs": [
    {
     "data": {
      "text/html": [
       "<div>\n",
       "<style scoped>\n",
       "    .dataframe tbody tr th:only-of-type {\n",
       "        vertical-align: middle;\n",
       "    }\n",
       "\n",
       "    .dataframe tbody tr th {\n",
       "        vertical-align: top;\n",
       "    }\n",
       "\n",
       "    .dataframe thead th {\n",
       "        text-align: right;\n",
       "    }\n",
       "</style>\n",
       "<table border=\"1\" class=\"dataframe\">\n",
       "  <thead>\n",
       "    <tr style=\"text-align: right;\">\n",
       "      <th></th>\n",
       "      <th>lat</th>\n",
       "      <th>lon</th>\n",
       "      <th>rooms</th>\n",
       "      <th>bedrooms</th>\n",
       "      <th>bathrooms</th>\n",
       "      <th>surface_total</th>\n",
       "      <th>surface_covered</th>\n",
       "      <th>property_type</th>\n",
       "    </tr>\n",
       "  </thead>\n",
       "  <tbody>\n",
       "    <tr>\n",
       "      <th>0</th>\n",
       "      <td>4.722000</td>\n",
       "      <td>-74.075000</td>\n",
       "      <td>3.0</td>\n",
       "      <td>3.0</td>\n",
       "      <td>3.0</td>\n",
       "      <td>660.00</td>\n",
       "      <td>350.00</td>\n",
       "      <td>1</td>\n",
       "    </tr>\n",
       "    <tr>\n",
       "      <th>1</th>\n",
       "      <td>5.666001</td>\n",
       "      <td>-75.041045</td>\n",
       "      <td>3.0</td>\n",
       "      <td>3.0</td>\n",
       "      <td>3.0</td>\n",
       "      <td>1352.13</td>\n",
       "      <td>948.34</td>\n",
       "      <td>0</td>\n",
       "    </tr>\n",
       "    <tr>\n",
       "      <th>2</th>\n",
       "      <td>6.259253</td>\n",
       "      <td>-75.628381</td>\n",
       "      <td>3.0</td>\n",
       "      <td>3.0</td>\n",
       "      <td>1.0</td>\n",
       "      <td>1352.13</td>\n",
       "      <td>948.34</td>\n",
       "      <td>1</td>\n",
       "    </tr>\n",
       "    <tr>\n",
       "      <th>3</th>\n",
       "      <td>6.203000</td>\n",
       "      <td>-75.556000</td>\n",
       "      <td>3.0</td>\n",
       "      <td>3.0</td>\n",
       "      <td>3.0</td>\n",
       "      <td>2793.00</td>\n",
       "      <td>948.34</td>\n",
       "      <td>3</td>\n",
       "    </tr>\n",
       "    <tr>\n",
       "      <th>4</th>\n",
       "      <td>5.666001</td>\n",
       "      <td>-75.041045</td>\n",
       "      <td>3.0</td>\n",
       "      <td>3.0</td>\n",
       "      <td>2.0</td>\n",
       "      <td>1352.13</td>\n",
       "      <td>948.34</td>\n",
       "      <td>1</td>\n",
       "    </tr>\n",
       "  </tbody>\n",
       "</table>\n",
       "</div>"
      ],
      "text/plain": [
       "        lat        lon  rooms  bedrooms  bathrooms  surface_total  \\\n",
       "0  4.722000 -74.075000    3.0       3.0        3.0         660.00   \n",
       "1  5.666001 -75.041045    3.0       3.0        3.0        1352.13   \n",
       "2  6.259253 -75.628381    3.0       3.0        1.0        1352.13   \n",
       "3  6.203000 -75.556000    3.0       3.0        3.0        2793.00   \n",
       "4  5.666001 -75.041045    3.0       3.0        2.0        1352.13   \n",
       "\n",
       "   surface_covered  property_type  \n",
       "0           350.00              1  \n",
       "1           948.34              0  \n",
       "2           948.34              1  \n",
       "3           948.34              3  \n",
       "4           948.34              1  "
      ]
     },
     "execution_count": 74,
     "metadata": {},
     "output_type": "execute_result"
    }
   ],
   "source": [
    "#COMPRUEBO QUE AMBOS DATAFRAMES HAYAN QUEDADO CORRECTAMENTE\n",
    "df.isnull().sum()\n",
    "df.info()\n",
    "df.shape\n",
    "df.head()\n",
    "dft.isnull().sum()\n",
    "dft.head()\n"
   ]
  },
  {
   "cell_type": "code",
   "execution_count": 16,
   "metadata": {},
   "outputs": [],
   "source": [
    "#LE AGREGO LA VARIABLE A PREDECIR EN EL DF DE ENTRENAMIENTO EN BASE AL PRECIO PROMEDIO PREVIAMENTE CALCULADO\n",
    "df['target'] = np.where(df['price'] < price_promedio, 0,1)"
   ]
  },
  {
   "cell_type": "code",
   "execution_count": 17,
   "metadata": {},
   "outputs": [],
   "source": [
    "#ELIMINO LA COLUMNA DE PRECIO YA QUE NO ES MAS UTIL\n",
    "df.drop(['price'], inplace=True, axis=1)"
   ]
  },
  {
   "cell_type": "code",
   "execution_count": 99,
   "metadata": {},
   "outputs": [
    {
     "data": {
      "text/html": [
       "<div>\n",
       "<style scoped>\n",
       "    .dataframe tbody tr th:only-of-type {\n",
       "        vertical-align: middle;\n",
       "    }\n",
       "\n",
       "    .dataframe tbody tr th {\n",
       "        vertical-align: top;\n",
       "    }\n",
       "\n",
       "    .dataframe thead th {\n",
       "        text-align: right;\n",
       "    }\n",
       "</style>\n",
       "<table border=\"1\" class=\"dataframe\">\n",
       "  <thead>\n",
       "    <tr style=\"text-align: right;\">\n",
       "      <th></th>\n",
       "      <th>lat</th>\n",
       "      <th>lon</th>\n",
       "      <th>rooms</th>\n",
       "      <th>bedrooms</th>\n",
       "      <th>bathrooms</th>\n",
       "      <th>surface_total</th>\n",
       "      <th>surface_covered</th>\n",
       "      <th>property_type</th>\n",
       "    </tr>\n",
       "  </thead>\n",
       "  <tbody>\n",
       "    <tr>\n",
       "      <th>0</th>\n",
       "      <td>4.722000</td>\n",
       "      <td>-74.075000</td>\n",
       "      <td>3.0</td>\n",
       "      <td>3.0</td>\n",
       "      <td>3.0</td>\n",
       "      <td>660.00</td>\n",
       "      <td>350.00</td>\n",
       "      <td>1</td>\n",
       "    </tr>\n",
       "    <tr>\n",
       "      <th>1</th>\n",
       "      <td>5.666001</td>\n",
       "      <td>-75.041045</td>\n",
       "      <td>3.0</td>\n",
       "      <td>3.0</td>\n",
       "      <td>3.0</td>\n",
       "      <td>1352.13</td>\n",
       "      <td>948.34</td>\n",
       "      <td>0</td>\n",
       "    </tr>\n",
       "    <tr>\n",
       "      <th>2</th>\n",
       "      <td>6.259253</td>\n",
       "      <td>-75.628381</td>\n",
       "      <td>3.0</td>\n",
       "      <td>3.0</td>\n",
       "      <td>1.0</td>\n",
       "      <td>1352.13</td>\n",
       "      <td>948.34</td>\n",
       "      <td>1</td>\n",
       "    </tr>\n",
       "    <tr>\n",
       "      <th>3</th>\n",
       "      <td>6.203000</td>\n",
       "      <td>-75.556000</td>\n",
       "      <td>3.0</td>\n",
       "      <td>3.0</td>\n",
       "      <td>3.0</td>\n",
       "      <td>2793.00</td>\n",
       "      <td>948.34</td>\n",
       "      <td>3</td>\n",
       "    </tr>\n",
       "    <tr>\n",
       "      <th>4</th>\n",
       "      <td>5.666001</td>\n",
       "      <td>-75.041045</td>\n",
       "      <td>3.0</td>\n",
       "      <td>3.0</td>\n",
       "      <td>2.0</td>\n",
       "      <td>1352.13</td>\n",
       "      <td>948.34</td>\n",
       "      <td>1</td>\n",
       "    </tr>\n",
       "  </tbody>\n",
       "</table>\n",
       "</div>"
      ],
      "text/plain": [
       "        lat        lon  rooms  bedrooms  bathrooms  surface_total  \\\n",
       "0  4.722000 -74.075000    3.0       3.0        3.0         660.00   \n",
       "1  5.666001 -75.041045    3.0       3.0        3.0        1352.13   \n",
       "2  6.259253 -75.628381    3.0       3.0        1.0        1352.13   \n",
       "3  6.203000 -75.556000    3.0       3.0        3.0        2793.00   \n",
       "4  5.666001 -75.041045    3.0       3.0        2.0        1352.13   \n",
       "\n",
       "   surface_covered  property_type  \n",
       "0           350.00              1  \n",
       "1           948.34              0  \n",
       "2           948.34              1  \n",
       "3           948.34              3  \n",
       "4           948.34              1  "
      ]
     },
     "execution_count": 99,
     "metadata": {},
     "output_type": "execute_result"
    }
   ],
   "source": [
    "#YA TENEMOS LAS TABLAS PARA ENTRENAR LOS ALGORITMOS Y LUEGO PREDECIR EL TARGET (LA COLUMNA FALTANTE) DEL DATAFRAME DE TEST\n",
    "df.head()\n",
    "dft.head()\n"
   ]
  },
  {
   "cell_type": "code",
   "execution_count": 19,
   "metadata": {},
   "outputs": [],
   "source": [
    "#IMPORTAMOS LAS FUNCIONES, METRICAS Y ALGORITMOS NECESARIOS PARA NUESTROS MODELOS\n",
    "from sklearn.model_selection import train_test_split\n",
    "from sklearn.linear_model import LogisticRegression\n",
    "from sklearn.tree import DecisionTreeClassifier\n",
    "from sklearn.metrics import accuracy_score\n",
    "from sklearn.metrics import recall_score"
   ]
  },
  {
   "cell_type": "code",
   "execution_count": 75,
   "metadata": {},
   "outputs": [],
   "source": [
    "#DEFINIMOS NUESTRAS VARIABLES \n",
    "X = np.array(df[['lat','lon','rooms','bedrooms','bathrooms','surface_total','surface_covered','property_type']])\n",
    "y = np.array(df['target'])\n",
    "Xdft = np.array(dft[['lat','lon','rooms','bedrooms','bathrooms','surface_total','surface_covered','property_type']])"
   ]
  },
  {
   "cell_type": "code",
   "execution_count": 21,
   "metadata": {},
   "outputs": [],
   "source": [
    "#DIVIDIMOS NUESTROS DATOS DE ENTRENAMIENTO PARA PROBAR NUESTROS MODELOS\n",
    "X_train, X_test, y_train, y_test = train_test_split(X, y, test_size=0.3, random_state=42)"
   ]
  },
  {
   "cell_type": "code",
   "execution_count": 22,
   "metadata": {},
   "outputs": [
    {
     "name": "stdout",
     "output_type": "stream",
     "text": [
      "accuracy:  0.8077280013498692\n",
      "recall:  0.3179282868525896\n"
     ]
    }
   ],
   "source": [
    "#ENTRENAMOS, PREDECIMOS Y EVALUAMOS NUESTROS MODELOS CON LOS DATOS DE ENTRENAMIENTO\n",
    "logreg = LogisticRegression(max_iter=1000)\n",
    "logreg.fit(X_train, y_train)\n",
    "y_pred = logreg.predict(X_test)\n",
    "print('accuracy: ', accuracy_score(y_test, y_pred))\n",
    "print('recall: ', recall_score(y_test, y_pred))"
   ]
  },
  {
   "cell_type": "code",
   "execution_count": 87,
   "metadata": {},
   "outputs": [
    {
     "data": {
      "text/plain": [
       "array([0, 0, 0, ..., 0, 0, 0])"
      ]
     },
     "execution_count": 87,
     "metadata": {},
     "output_type": "execute_result"
    }
   ],
   "source": [
    "#HACEMOS LA PREDICCION DE NUESTROS DATOS DE TESTEO, NO PODEMOS EVALUAR YA QUE NO TENEMOS LAS RESPUESTAS\n",
    "y_pred_logreg_test = logreg.predict(Xdft)\n",
    "y_pred_logreg_test"
   ]
  },
  {
   "cell_type": "code",
   "execution_count": 91,
   "metadata": {},
   "outputs": [
    {
     "data": {
      "text/html": [
       "<div>\n",
       "<style scoped>\n",
       "    .dataframe tbody tr th:only-of-type {\n",
       "        vertical-align: middle;\n",
       "    }\n",
       "\n",
       "    .dataframe tbody tr th {\n",
       "        vertical-align: top;\n",
       "    }\n",
       "\n",
       "    .dataframe thead th {\n",
       "        text-align: right;\n",
       "    }\n",
       "</style>\n",
       "<table border=\"1\" class=\"dataframe\">\n",
       "  <thead>\n",
       "    <tr style=\"text-align: right;\">\n",
       "      <th></th>\n",
       "      <th>pred</th>\n",
       "    </tr>\n",
       "  </thead>\n",
       "  <tbody>\n",
       "    <tr>\n",
       "      <th>0</th>\n",
       "      <td>0</td>\n",
       "    </tr>\n",
       "    <tr>\n",
       "      <th>1</th>\n",
       "      <td>0</td>\n",
       "    </tr>\n",
       "    <tr>\n",
       "      <th>2</th>\n",
       "      <td>0</td>\n",
       "    </tr>\n",
       "    <tr>\n",
       "      <th>3</th>\n",
       "      <td>0</td>\n",
       "    </tr>\n",
       "    <tr>\n",
       "      <th>4</th>\n",
       "      <td>0</td>\n",
       "    </tr>\n",
       "    <tr>\n",
       "      <th>...</th>\n",
       "      <td>...</td>\n",
       "    </tr>\n",
       "    <tr>\n",
       "      <th>65845</th>\n",
       "      <td>0</td>\n",
       "    </tr>\n",
       "    <tr>\n",
       "      <th>65846</th>\n",
       "      <td>0</td>\n",
       "    </tr>\n",
       "    <tr>\n",
       "      <th>65847</th>\n",
       "      <td>0</td>\n",
       "    </tr>\n",
       "    <tr>\n",
       "      <th>65848</th>\n",
       "      <td>0</td>\n",
       "    </tr>\n",
       "    <tr>\n",
       "      <th>65849</th>\n",
       "      <td>0</td>\n",
       "    </tr>\n",
       "  </tbody>\n",
       "</table>\n",
       "<p>65850 rows × 1 columns</p>\n",
       "</div>"
      ],
      "text/plain": [
       "       pred\n",
       "0         0\n",
       "1         0\n",
       "2         0\n",
       "3         0\n",
       "4         0\n",
       "...     ...\n",
       "65845     0\n",
       "65846     0\n",
       "65847     0\n",
       "65848     0\n",
       "65849     0\n",
       "\n",
       "[65850 rows x 1 columns]"
      ]
     },
     "execution_count": 91,
     "metadata": {},
     "output_type": "execute_result"
    }
   ],
   "source": [
    "#CONVERTIMOS EL ARRAY EN EL FORMATO EXIGIDO\n",
    "df_logreg_pred = pd.DataFrame(data=y_pred_logreg_test, columns=['pred'], index=None)\n",
    "df_logreg_pred"
   ]
  },
  {
   "cell_type": "code",
   "execution_count": 97,
   "metadata": {},
   "outputs": [],
   "source": [
    "#EXPORTAMOS EL ARCHIVO\n",
    "df_logreg_pred.to_csv('estanislaohaquin.csv', index=False)"
   ]
  },
  {
   "cell_type": "code",
   "execution_count": 61,
   "metadata": {},
   "outputs": [
    {
     "name": "stdout",
     "output_type": "stream",
     "text": [
      "accuracy:  0.8312494727073315\n",
      "recall:  0.6225280695400217\n"
     ]
    }
   ],
   "source": [
    "#REPETIMOS EL PROCESO PERO CON UN ALGORITMO DIFERENTE\n",
    "clf = DecisionTreeClassifier(criterion='gini',  max_depth=6)\n",
    "clf.fit(X_train, y_train)\n",
    "y_pred = clf.predict(X_test)\n",
    "print('accuracy: ', accuracy_score(y_test, y_pred))\n",
    "print('recall: ', recall_score(y_test, y_pred))"
   ]
  },
  {
   "cell_type": "code",
   "execution_count": 77,
   "metadata": {},
   "outputs": [
    {
     "data": {
      "text/plain": [
       "array([0, 0, 0, ..., 0, 0, 0])"
      ]
     },
     "execution_count": 77,
     "metadata": {},
     "output_type": "execute_result"
    }
   ],
   "source": [
    "y_pred_tree_test = clf.predict(Xdft)\n",
    "y_pred_tree_test"
   ]
  },
  {
   "cell_type": "code",
   "execution_count": 93,
   "metadata": {},
   "outputs": [
    {
     "data": {
      "text/html": [
       "<div>\n",
       "<style scoped>\n",
       "    .dataframe tbody tr th:only-of-type {\n",
       "        vertical-align: middle;\n",
       "    }\n",
       "\n",
       "    .dataframe tbody tr th {\n",
       "        vertical-align: top;\n",
       "    }\n",
       "\n",
       "    .dataframe thead th {\n",
       "        text-align: right;\n",
       "    }\n",
       "</style>\n",
       "<table border=\"1\" class=\"dataframe\">\n",
       "  <thead>\n",
       "    <tr style=\"text-align: right;\">\n",
       "      <th></th>\n",
       "      <th>pred</th>\n",
       "    </tr>\n",
       "  </thead>\n",
       "  <tbody>\n",
       "    <tr>\n",
       "      <th>0</th>\n",
       "      <td>0</td>\n",
       "    </tr>\n",
       "    <tr>\n",
       "      <th>1</th>\n",
       "      <td>0</td>\n",
       "    </tr>\n",
       "    <tr>\n",
       "      <th>2</th>\n",
       "      <td>0</td>\n",
       "    </tr>\n",
       "    <tr>\n",
       "      <th>3</th>\n",
       "      <td>0</td>\n",
       "    </tr>\n",
       "    <tr>\n",
       "      <th>4</th>\n",
       "      <td>0</td>\n",
       "    </tr>\n",
       "    <tr>\n",
       "      <th>...</th>\n",
       "      <td>...</td>\n",
       "    </tr>\n",
       "    <tr>\n",
       "      <th>65845</th>\n",
       "      <td>0</td>\n",
       "    </tr>\n",
       "    <tr>\n",
       "      <th>65846</th>\n",
       "      <td>0</td>\n",
       "    </tr>\n",
       "    <tr>\n",
       "      <th>65847</th>\n",
       "      <td>0</td>\n",
       "    </tr>\n",
       "    <tr>\n",
       "      <th>65848</th>\n",
       "      <td>0</td>\n",
       "    </tr>\n",
       "    <tr>\n",
       "      <th>65849</th>\n",
       "      <td>0</td>\n",
       "    </tr>\n",
       "  </tbody>\n",
       "</table>\n",
       "<p>65850 rows × 1 columns</p>\n",
       "</div>"
      ],
      "text/plain": [
       "       pred\n",
       "0         0\n",
       "1         0\n",
       "2         0\n",
       "3         0\n",
       "4         0\n",
       "...     ...\n",
       "65845     0\n",
       "65846     0\n",
       "65847     0\n",
       "65848     0\n",
       "65849     0\n",
       "\n",
       "[65850 rows x 1 columns]"
      ]
     },
     "execution_count": 93,
     "metadata": {},
     "output_type": "execute_result"
    }
   ],
   "source": [
    "df_tree_pred = pd.DataFrame(data=y_pred_tree_test, columns=['pred'], index=None)\n",
    "df_tree_pred"
   ]
  },
  {
   "cell_type": "code",
   "execution_count": 98,
   "metadata": {},
   "outputs": [],
   "source": [
    "df_tree_pred.to_csv('estanislaohaquin(1).csv', index=False)"
   ]
  }
 ],
 "metadata": {
  "kernelspec": {
   "display_name": "Python 3.10.5 64-bit",
   "language": "python",
   "name": "python3"
  },
  "language_info": {
   "codemirror_mode": {
    "name": "ipython",
    "version": 3
   },
   "file_extension": ".py",
   "mimetype": "text/x-python",
   "name": "python",
   "nbconvert_exporter": "python",
   "pygments_lexer": "ipython3",
   "version": "3.10.5"
  },
  "orig_nbformat": 4,
  "vscode": {
   "interpreter": {
    "hash": "d25c91490aa16b98ff656066d27ee03dd239270c2351b6f34fcfa33606e1c671"
   }
  }
 },
 "nbformat": 4,
 "nbformat_minor": 2
}
